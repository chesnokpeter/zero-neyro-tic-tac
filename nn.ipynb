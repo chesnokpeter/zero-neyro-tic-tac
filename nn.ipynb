{
 "cells": [
  {
   "cell_type": "code",
   "execution_count": null,
   "metadata": {},
   "outputs": [
    {
     "ename": "",
     "evalue": "",
     "output_type": "error",
     "traceback": [
      "\u001b[1;31mДля выполнения ячеек с \"Python 3.12.3\" требуется пакет ipykernel.\n",
      "\u001b[1;31mВыполните следующую команду, чтобы установить \"ipykernel\" в среде Python. \n",
      "\u001b[1;31mКоманда: \"/bin/python3 -m pip install ipykernel -U --user --force-reinstall\""
     ]
    }
   ],
   "source": [
    "import random\n",
    "import math\n",
    "\n",
    "def sigmoid(x):\n",
    "    return 1 / (1 + math.exp(-x))\n",
    "\n",
    "def sigmoid_derivative(x):\n",
    "    return x * (1 - x)\n",
    "\n",
    "class Neuron:\n",
    "    def __init__(self, num_inputs):\n",
    "        self.weights = [random.uniform(-1, 1) for _ in range(num_inputs)]\n",
    "        self.bias = random.uniform(-1, 1)\n",
    "        self.output = 0\n",
    "        self.inputs = []\n",
    "\n",
    "    # Функция активации и вычисление выхода нейрона\n",
    "    def activate(self, inputs):\n",
    "        self.inputs = inputs\n",
    "        weighted_sum = sum(w * i for w, i in zip(self.weights, inputs)) + self.bias\n",
    "        self.output = sigmoid(weighted_sum)\n",
    "        return self.output\n",
    "\n",
    "    # Обновление весов при обратном распространении ошибки\n",
    "    def update_weights(self, learning_rate, delta):\n",
    "        for i in range(len(self.weights)):\n",
    "            self.weights[i] += learning_rate * delta * self.inputs[i]\n",
    "        self.bias += learning_rate * delta\n",
    "\n",
    "class Layer:\n",
    "    def __init__(self, num_neurons, num_inputs):\n",
    "        # Создаем слой, состоящий из num_neurons нейронов,\n",
    "        # каждый из которых получает num_inputs входов\n",
    "        self.neurons = [Neuron(num_inputs) for _ in range(num_neurons)]\n",
    "\n",
    "    # Пропускаем входные данные через слой, активируя каждый нейрон\n",
    "    def forward(self, inputs):\n",
    "        outputs = [neuron.activate(inputs) for neuron in self.neurons]\n",
    "        return outputs\n",
    "\n",
    "class NeuralNetwork:\n",
    "    def __init__(self, input_size, hidden_size, output_size):\n",
    "        # Инициализация слоев: входной -> скрытый -> выходной\n",
    "        self.hidden_layer = Layer(hidden_size, input_size)\n",
    "        self.output_layer = Layer(output_size, hidden_size)\n",
    "\n",
    "    # Прямое распространение данных через сеть\n",
    "    def forward(self, inputs):\n",
    "        hidden_output = self.hidden_layer.forward(inputs)\n",
    "        output = self.output_layer.forward(hidden_output)\n",
    "        return output\n",
    "\n",
    "    # Обратное распространение ошибки и обновление весов\n",
    "    def backward(self, inputs, expected_output, actual_output, learning_rate):\n",
    "        # Ошибка на выходе\n",
    "        output_errors = [(expected - actual) for expected, actual in zip(expected_output, actual_output)]\n",
    "\n",
    "        # Вычисляем дельты для выходного слоя (ошибка * производная активации)\n",
    "        output_deltas = [error * sigmoid_derivative(neuron.output) for neuron, error in zip(self.output_layer.neurons, output_errors)]\n",
    "\n",
    "        # Обнов\n",
    "\n"
   ]
  }
 ],
 "metadata": {
  "kernelspec": {
   "display_name": "Python 3",
   "language": "python",
   "name": "python3"
  },
  "language_info": {
   "name": "python",
   "version": "3.12.3"
  }
 },
 "nbformat": 4,
 "nbformat_minor": 2
}
